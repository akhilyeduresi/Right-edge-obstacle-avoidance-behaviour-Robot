{
 "cells": [
  {
   "cell_type": "code",
   "execution_count": 2,
   "metadata": {
    "_uuid": "17c0d7df876d7994aafc7cf3bc90585380bd6d28"
   },
   "outputs": [],
   "source": [
    "#loading the required libraries\n",
    "import pandas as pd   #for loading data into dataframes format\n",
    "import numpy as np    #for matrix multiplications during forward and backward propagations\n",
    "\n",
    "import matplotlib.pyplot as plt #for plotting the error plot\n",
    "%matplotlib inline       \n",
    "\n",
    "from sklearn.model_selection import train_test_split #splitting the data into train and test\n",
    "import math #for divisions\n",
    "from sklearn.metrics import mean_squared_error \n",
    "from math import sqrt \n",
    "import os\n",
    "#print(os.listdir(\"../input\"))\n"
   ]
  },
  {
   "cell_type": "code",
   "execution_count": 4,
   "metadata": {
    "_uuid": "dc62895da4ba2bdcd7f7a0b885b17a1f4796305e"
   },
   "outputs": [
    {
     "name": "stdout",
     "output_type": "stream",
     "text": [
      "         0        1       2      3\n",
      "0  387.199  2997.29  120.92  115.0\n",
      "1  387.199  2997.29  120.92  115.0\n",
      "2  387.199  2997.29  120.92  115.0\n",
      "3  387.199  2997.29  120.92  115.0\n",
      "4  387.199  2997.29  120.92  115.0\n"
     ]
    },
    {
     "data": {
      "text/plain": [
       "(1690126, 4)"
      ]
     },
     "execution_count": 4,
     "metadata": {},
     "output_type": "execute_result"
    }
   ],
   "source": [
    "#loading data\n",
    "data = pd.read_csv(\"C:\\\\Users\\\\DurgaAkhilYeduresi\\\\myproject\\\\Robot Automation/nntrainingdata1.csv\", header = None)\n",
    "print(data.head())\n",
    "data.shape\n"
   ]
  },
  {
   "cell_type": "code",
   "execution_count": 5,
   "metadata": {
    "_uuid": "215dda19a77c82b089437153e6e1846c7d74f807"
   },
   "outputs": [
    {
     "name": "stdout",
     "output_type": "stream",
     "text": [
      "       LDR      FDR     LSM    RSM\n",
      "0  387.199  2997.29  120.92  115.0\n",
      "1  387.199  2997.29  120.92  115.0\n",
      "2  387.199  2997.29  120.92  115.0\n",
      "3  387.199  2997.29  120.92  115.0\n",
      "4  387.199  2997.29  120.92  115.0\n"
     ]
    }
   ],
   "source": [
    "data.columns = ['LDR', 'FDR', 'LSM', 'RSM'] #renaming variables\n",
    "print(data.head())"
   ]
  },
  {
   "cell_type": "code",
   "execution_count": 6,
   "metadata": {
    "_uuid": "523b0fb18e11c2ff2c713064e95b8edd0c333935"
   },
   "outputs": [
    {
     "name": "stdout",
     "output_type": "stream",
     "text": [
      "(1690126, 4)\n",
      "(5891, 4)\n"
     ]
    }
   ],
   "source": [
    "#dropping duplicates\n",
    "print(data.shape)\n",
    "udata = data.drop_duplicates() \n",
    "print(udata.shape)\n"
   ]
  },
  {
   "cell_type": "code",
   "execution_count": 7,
   "metadata": {
    "_uuid": "36fb79af2e090b70f640517d90aa4b3c7a391044"
   },
   "outputs": [
    {
     "name": "stdout",
     "output_type": "stream",
     "text": [
      "               LDR          FDR          LSM          RSM\n",
      "count  5891.000000  5891.000000  5891.000000  5891.000000\n",
      "mean    626.904443  2085.726035   125.536171   154.034380\n",
      "std     348.356461   796.678203    21.560707    38.778438\n",
      "min     219.694000   575.484000    82.327400    74.981600\n",
      "25%     483.370000  1364.925000   115.000000   118.682500\n",
      "50%     638.972000  2136.950000   115.000000   145.812000\n",
      "75%     735.646500  2673.420000   128.554000   187.707500\n",
      "max    5274.230000  4288.670000   236.409000   300.000000\n"
     ]
    }
   ],
   "source": [
    "#removing outliers in data\n",
    "print(udata.describe())"
   ]
  },
  {
   "cell_type": "code",
   "execution_count": 8,
   "metadata": {
    "_uuid": "0620b2c98a1f205ef21d193998381c6eb2eddddb"
   },
   "outputs": [
    {
     "name": "stdout",
     "output_type": "stream",
     "text": [
      "               LDR          FDR          LSM          RSM\n",
      "count  5891.000000  5891.000000  5891.000000  5891.000000\n",
      "mean    607.081296  2085.726035   125.536171   154.034380\n",
      "std     194.946108   796.678203    21.560707    38.778438\n",
      "min     219.694000   575.484000    82.327400    74.981600\n",
      "25%     483.370000  1364.925000   115.000000   118.682500\n",
      "50%     638.972000  2136.950000   115.000000   145.812000\n",
      "75%     735.646500  2673.420000   128.554000   187.707500\n",
      "max    1500.000000  4288.670000   236.409000   300.000000\n"
     ]
    },
    {
     "name": "stderr",
     "output_type": "stream",
     "text": [
      "C:\\Users\\DurgaAkhilYeduresi\\Anaconda3\\lib\\site-packages\\pandas\\core\\generic.py:9114: SettingWithCopyWarning: \n",
      "A value is trying to be set on a copy of a slice from a DataFrame\n",
      "\n",
      "See the caveats in the documentation: http://pandas.pydata.org/pandas-docs/stable/user_guide/indexing.html#returning-a-view-versus-a-copy\n",
      "  self._update_inplace(new_data)\n",
      "C:\\Users\\DurgaAkhilYeduresi\\Anaconda3\\lib\\site-packages\\IPython\\core\\interactiveshell.py:3326: SettingWithCopyWarning: \n",
      "A value is trying to be set on a copy of a slice from a DataFrame\n",
      "\n",
      "See the caveats in the documentation: http://pandas.pydata.org/pandas-docs/stable/user_guide/indexing.html#returning-a-view-versus-a-copy\n",
      "  exec(code_obj, self.user_global_ns, self.user_ns)\n"
     ]
    }
   ],
   "source": [
    "#removing outliers in data\n",
    "udata['LDR'][udata['LDR']> 1500] = 1500  \n",
    "print(udata.describe())"
   ]
  },
  {
   "cell_type": "code",
   "execution_count": 9,
   "metadata": {
    "_uuid": "be549dc8c30f5ac7dac32d5f8b7bfec0692f794e"
   },
   "outputs": [
    {
     "data": {
      "text/plain": [
       "(5891, 4)"
      ]
     },
     "execution_count": 9,
     "metadata": {},
     "output_type": "execute_result"
    }
   ],
   "source": [
    "#normalization\n",
    "data_min = udata.min()\n",
    "data_max = udata.max()\n",
    "normalizeddata = (udata - udata.min()) / (udata.max() - udata.min())\n",
    "normalizeddata.shape"
   ]
  },
  {
   "cell_type": "code",
   "execution_count": 10,
   "metadata": {
    "_uuid": "8f4d5af899c2f2ae9ed8f93a43feeea57b8d919c"
   },
   "outputs": [
    {
     "data": {
      "text/plain": [
       "LDR    219.6940\n",
       "FDR    575.4840\n",
       "LSM     82.3274\n",
       "RSM     74.9816\n",
       "dtype: float64"
      ]
     },
     "execution_count": 10,
     "metadata": {},
     "output_type": "execute_result"
    }
   ],
   "source": [
    "udata.min()\n"
   ]
  },
  {
   "cell_type": "code",
   "execution_count": 11,
   "metadata": {
    "_uuid": "ea7ba958fb99904f333cd4431c577213d6cceb1c"
   },
   "outputs": [
    {
     "name": "stdout",
     "output_type": "stream",
     "text": [
      "(4123, 4)\n",
      "(884, 4)\n",
      "(884, 4)\n"
     ]
    }
   ],
   "source": [
    "#spliting data\n",
    "training , validation = train_test_split(normalizeddata, test_size = 0.3)\n",
    "testing, validation = train_test_split(validation, test_size=0.5)\n",
    "print(training.shape)\n",
    "print(validation.shape)\n",
    "print(testing.shape)"
   ]
  },
  {
   "cell_type": "code",
   "execution_count": 12,
   "metadata": {
    "_uuid": "22b3c008dbfae896fdee877b994d620103079d4b"
   },
   "outputs": [],
   "source": [
    "#spliting data\n",
    "x_train_input = np.array(training[['LDR', 'FDR']]).T\n",
    "y_train_output = np.array(training[['LSM', 'RSM']]).T\n",
    "\n",
    "x_validation_input = np.array(validation[['LDR', 'FDR']]).T\n",
    "y_validation_output = np.array(validation[['LSM', 'RSM']]).T\n",
    "\n",
    "x_testing_input = np.array(testing[['LDR', 'FDR']]).T\n",
    "y_testing_output = np.array(testing[['LSM', 'RSM']]).T"
   ]
  },
  {
   "cell_type": "code",
   "execution_count": null,
   "metadata": {
    "_uuid": "40eeac403dc8e98f5c0621709a82a9531c0504ab"
   },
   "outputs": [],
   "source": []
  },
  {
   "cell_type": "code",
   "execution_count": 13,
   "metadata": {
    "_uuid": "2d9d965901d74e98e118b41c866561cd9642d25b"
   },
   "outputs": [],
   "source": [
    "def calculate_loss(model, x_trainloss, y_trainloss, x_validationloss, y_validationloss):\n",
    "    #calling model prediction\n",
    "    Weight_hidden, bias_hidden, Weight_output, bias_output = model['w1'], model['b1'], model['w2'], model['b2']\n",
    "    z1 = np.dot(Weight_hidden, x_trainloss) +bias_hidden\n",
    "    a1 = sigmoid(z1)  #activation layer\n",
    "    \n",
    "    z2 = np.dot(Weight_output, a1) + bias_output\n",
    "    a2 = sigmoid(z2) \n",
    "    \n",
    "    rmserror = np.mean(np.square(y_trainloss - a2))\n",
    "    \n",
    "    z1 = np.dot(Weight_hidden, x_validationloss) +bias_hidden\n",
    "    a1 = sigmoid(z1)\n",
    "    z2 = np.dot(Weight_output, a1) + bias_output\n",
    "    a2 = sigmoid(z2)\n",
    "    rmserror_val = np.mean(np.square(y_validationloss - a2))\n",
    "    return rmserror, rmserror_val"
   ]
  },
  {
   "cell_type": "code",
   "execution_count": 14,
   "metadata": {
    "_uuid": "82d13f60178b919906f4f80cdabfcc7bf899ba98"
   },
   "outputs": [],
   "source": [
    "def sigmoid(x):  \n",
    "    return 1/(1+np.exp(-x *0.1))\n",
    "def sigmoid_derivative(x):  \n",
    "    return x*(1-x)"
   ]
  },
  {
   "cell_type": "code",
   "execution_count": null,
   "metadata": {
    "_uuid": "358a4892a5079db2a107ff00611faff5a2455816"
   },
   "outputs": [],
   "source": []
  },
  {
   "cell_type": "code",
   "execution_count": 15,
   "metadata": {
    "_uuid": "a4ab9487f6e6de879f8bd4c7cc857f41ca25bc9d"
   },
   "outputs": [],
   "source": [
    "def fwd_propagation(x_fwd_input, model):\n",
    "    \n",
    "    Weight_hidden, bias_hidden, Weight_output, bias_output = model['w1'], model['b1'], model['w2'], model['b2']\n",
    "    \n",
    "    z1 = np.dot(Weight_hidden, x_fwd_input) +bias_hidden\n",
    "    a1 = sigmoid(z1)  #activation layer\n",
    "    z2 = np.dot(Weight_output, a1) + bias_output\n",
    "    a2 = sigmoid(z2)\n",
    "    return(a2)         "
   ]
  },
  {
   "cell_type": "code",
   "execution_count": null,
   "metadata": {
    "_uuid": "38af3b4a34b3157c334e1175e63da89b4104e88d"
   },
   "outputs": [],
   "source": []
  },
  {
   "cell_type": "code",
   "execution_count": 16,
   "metadata": {
    "_uuid": "0d10c1545fd79d9d9169c0ab32f1d160d17b753e"
   },
   "outputs": [],
   "source": [
    " def back_propagation(model,x_train_input, a2, error, r_lambda, l_rate, epsilon):\n",
    "    Weight_hidden, bias_hidden, Weight_output, bias_output, dWeight_hidden_old, dWeight_output_old = model['w1'], model['b1'], model['w2'], model['b2'], model['dw1_old'], model['dw2_old']\n",
    "    \n",
    "    delta2 = r_lambda *(error * sigmoid_derivative(a2))\n",
    "    a1 = sigmoid(np.dot(Weight_hidden, x_train_input) +bias_hidden)  \n",
    "    delta1 = r_lambda * np.dot(Weight_output.T, delta2)*sigmoid_derivative(a1)\n",
    "      \n",
    "    dWeight_output = np.dot(delta2, a1.T)\n",
    "    dWeight_hidden = np.dot(delta1, x_train_input.T)\n",
    "    \n",
    "    dbias_output = np.sum(delta2, axis=1, keepdims=True)\n",
    "    dbias_hidden = np.sum(delta1, axis=1, keepdims=True)\n",
    "    \n",
    "        \n",
    "    # update the weights with the derivative (slope) of the loss function\n",
    "    Weight_hidden += l_rate*dWeight_hidden + epsilon * dWeight_hidden_old\n",
    "    Weight_output += l_rate*dWeight_output + epsilon * dWeight_output_old\n",
    "    bias_hidden += l_rate*dbias_hidden\n",
    "    bias_output += l_rate*dbias_output\n",
    "    # Assign new parameters to the model\n",
    "    model = { 'w1': Weight_hidden, 'b1': bias_hidden, 'w2': Weight_output, 'b2': bias_output, \"dw1_old\":dWeight_hidden, \"dw2_old\": dWeight_output}\n",
    "    return model"
   ]
  },
  {
   "cell_type": "code",
   "execution_count": 17,
   "metadata": {
    "_uuid": "3c87e2a98acb2e8715ba96539f6d43d2c0833473"
   },
   "outputs": [],
   "source": [
    "def build_model(x_train_input, y_train_output,n_hidden=4, r_lambda = 0.2, l_rate=0.1,epsilon=0.1,  epochs = 1501):\n",
    "    \n",
    "    #initialize parameters to random values\n",
    "    np.random.seed(144)\n",
    "    Weight_hidden = np.random.rand(n_hidden,2) \n",
    "    bias_hidden = np.zeros((n_hidden,1))\n",
    "    Weight_output = np.random.rand(2,n_hidden) \n",
    "    bias_output = np.zeros((2,1))\n",
    "    \n",
    "    #gradient momentum initilizations\n",
    "    dWeight_hidden_old = np.zeros((n_hidden,2))\n",
    "    dWeight_output_old = np.zeros((2,n_hidden))\n",
    "    \n",
    "    \n",
    "    #Declaring dictonary for storing parameters for later use\n",
    "    model = {}\n",
    "    # Assign new parameters to the model\n",
    "    model = { 'w1': Weight_hidden, 'b1': bias_hidden, 'w2': Weight_output, 'b2': bias_output, \"dw1_old\":dWeight_hidden_old, \"dw2_old\": dWeight_output_old}\n",
    "    \n",
    "    training_loss= []\n",
    "    validation_loss = []\n",
    "    \n",
    "    \n",
    "    for i in range(0, epochs):\n",
    "        \n",
    "        \n",
    "        #forrward propagation\n",
    "        a2 = fwd_propagation(x_train_input, model)\n",
    "        error = 2*(y_train_output - a2)\n",
    "        \n",
    "        #backward propagation\n",
    "        model = back_propagation(model,x_train_input, a2, error, r_lambda, l_rate, epsilon)\n",
    "                \n",
    "        rmserror,rmserror_val  = calculate_loss(model, x_train_input, y_train_output,x_validation_input,y_validation_output)\n",
    "        training_loss.append(rmserror)\n",
    "        validation_loss.append(rmserror_val)\n",
    "        \n",
    "        # Optionally print the loss.\n",
    "        # This is expensive because it uses the whole dataset, so we don't want to do it too often.\n",
    "        if i % 300 == 0:\n",
    "            print(\"Loss after iteration %i: training loss = %f  cv loss = %f\" %(i,rmserror, rmserror_val))\n",
    "     \n",
    "    return model, training_loss, validation_loss "
   ]
  },
  {
   "cell_type": "code",
   "execution_count": 18,
   "metadata": {
    "_uuid": "9f0fd45633312444934dbb84387d93580b03b705"
   },
   "outputs": [],
   "source": [
    "#training_loss"
   ]
  },
  {
   "cell_type": "code",
   "execution_count": 19,
   "metadata": {
    "_uuid": "d11fd6a6a9ac9019139db87e5a39cb664df1d485"
   },
   "outputs": [
    {
     "name": "stdout",
     "output_type": "stream",
     "text": [
      "Loss after iteration 0: training loss = 0.024689  cv loss = 0.022944\n",
      "Loss after iteration 300: training loss = 0.007684  cv loss = 0.006765\n",
      "Loss after iteration 600: training loss = 0.005289  cv loss = 0.004882\n",
      "Loss after iteration 900: training loss = 0.004584  cv loss = 0.004327\n",
      "Loss after iteration 1200: training loss = 0.004101  cv loss = 0.003928\n",
      "Loss after iteration 1500: training loss = 0.003779  cv loss = 0.003664\n"
     ]
    }
   ],
   "source": [
    "# Build a model\n",
    "model, training_loss , validation_loss = build_model(x_train_input, y_train_output,n_hidden= 4, epochs = 1501, epsilon=0.1, r_lambda = 0.1, l_rate=0.1)"
   ]
  },
  {
   "cell_type": "code",
   "execution_count": null,
   "metadata": {
    "_uuid": "e0a40e18d868aa45887997108297733e9f773198"
   },
   "outputs": [],
   "source": []
  },
  {
   "cell_type": "code",
   "execution_count": 20,
   "metadata": {
    "_uuid": "5e7d8feac5d0673657bc76cb44ede1d39e74091c"
   },
   "outputs": [
    {
     "data": {
      "text/plain": [
       "array([[-28.89058548,   2.36088655],\n",
       "       [-31.20137949,   0.55531054],\n",
       "       [ 15.15135364,  77.65946801],\n",
       "       [-17.61425076,   8.86746416]])"
      ]
     },
     "execution_count": 20,
     "metadata": {},
     "output_type": "execute_result"
    }
   ],
   "source": [
    "model[\"w1\"]"
   ]
  },
  {
   "cell_type": "code",
   "execution_count": 21,
   "metadata": {
    "_uuid": "c33446c403fac2ee0abb3603b1992d18347be712"
   },
   "outputs": [
    {
     "data": {
      "text/plain": [
       "array([[ 17.80864066,  20.3125712 , -41.4950152 ,   6.77532311],\n",
       "       [-33.74779092, -35.60011447,  29.4700023 , -18.29744523]])"
      ]
     },
     "execution_count": 21,
     "metadata": {},
     "output_type": "execute_result"
    }
   ],
   "source": [
    "model[\"w2\"]"
   ]
  },
  {
   "cell_type": "code",
   "execution_count": 22,
   "metadata": {
    "_uuid": "ff4774c3deec3dec3be6f160bb7391eeb7ded76c"
   },
   "outputs": [
    {
     "data": {
      "text/plain": [
       "array([[ 4.59114608],\n",
       "       [ 5.26990262],\n",
       "       [-3.7982716 ],\n",
       "       [-0.07717027]])"
      ]
     },
     "execution_count": 22,
     "metadata": {},
     "output_type": "execute_result"
    }
   ],
   "source": [
    "model[\"b1\"]"
   ]
  },
  {
   "cell_type": "code",
   "execution_count": 23,
   "metadata": {
    "_uuid": "f588069430de163ac5b32ffbfbb34ce8167ae432"
   },
   "outputs": [
    {
     "data": {
      "text/plain": [
       "array([[8.51533099],\n",
       "       [3.29638089]])"
      ]
     },
     "execution_count": 23,
     "metadata": {},
     "output_type": "execute_result"
    }
   ],
   "source": [
    "model[\"b2\"]"
   ]
  },
  {
   "cell_type": "code",
   "execution_count": 24,
   "metadata": {
    "_uuid": "c323fd0341f85706864242b2730dd09c88cbfa14"
   },
   "outputs": [
    {
     "data": {
      "image/png": "[encoded data removed]",
      "text/plain": [
       "<Figure size 432x288 with 1 Axes>"
      ]
     },
     "metadata": {
      "needs_background": "light"
     },
     "output_type": "display_data"
    }
   ],
   "source": [
    "def plot_erros(training_loss):\n",
    "    plt.plot(training_loss)\n",
    "    plt.plot(validation_loss)\n",
    "    plt.xlabel('number of epochs')\n",
    "    plt.ylabel('loss')\n",
    "    plt.title('loss vs number of epochs')\n",
    "    plt.legend(['training'], loc='upper right')\n",
    "    plt.xlim(0, 1500)\n",
    "    plt.show()\n",
    "plot_erros(training_loss)"
   ]
  },
  {
   "cell_type": "code",
   "execution_count": 25,
   "metadata": {
    "_uuid": "08883a098a28421d71c2532cf92bcf3b3bf71d60"
   },
   "outputs": [
    {
     "data": {
      "text/html": [
       "<div>\n",
       "<style scoped>\n",
       "    .dataframe tbody tr th:only-of-type {\n",
       "        vertical-align: middle;\n",
       "    }\n",
       "\n",
       "    .dataframe tbody tr th {\n",
       "        vertical-align: top;\n",
       "    }\n",
       "\n",
       "    .dataframe thead th {\n",
       "        text-align: right;\n",
       "    }\n",
       "</style>\n",
       "<table border=\"1\" class=\"dataframe\">\n",
       "  <thead>\n",
       "    <tr style=\"text-align: right;\">\n",
       "      <th></th>\n",
       "      <th>LSM</th>\n",
       "      <th>RSM</th>\n",
       "    </tr>\n",
       "  </thead>\n",
       "  <tbody>\n",
       "    <tr>\n",
       "      <td>0</td>\n",
       "      <td>0.360105</td>\n",
       "      <td>0.309087</td>\n",
       "    </tr>\n",
       "    <tr>\n",
       "      <td>1</td>\n",
       "      <td>0.258244</td>\n",
       "      <td>0.252663</td>\n",
       "    </tr>\n",
       "    <tr>\n",
       "      <td>2</td>\n",
       "      <td>0.336408</td>\n",
       "      <td>0.168786</td>\n",
       "    </tr>\n",
       "    <tr>\n",
       "      <td>3</td>\n",
       "      <td>0.331950</td>\n",
       "      <td>0.340241</td>\n",
       "    </tr>\n",
       "    <tr>\n",
       "      <td>4</td>\n",
       "      <td>0.228032</td>\n",
       "      <td>0.416601</td>\n",
       "    </tr>\n",
       "  </tbody>\n",
       "</table>\n",
       "</div>"
      ],
      "text/plain": [
       "        LSM       RSM\n",
       "0  0.360105  0.309087\n",
       "1  0.258244  0.252663\n",
       "2  0.336408  0.168786\n",
       "3  0.331950  0.340241\n",
       "4  0.228032  0.416601"
      ]
     },
     "execution_count": 25,
     "metadata": {},
     "output_type": "execute_result"
    }
   ],
   "source": [
    "y_prediction = fwd_propagation(x_testing_input, model)\n",
    "y_prediction_df = pd.DataFrame(y_prediction.T,columns=['LSM', 'RSM'])\n",
    "y_prediction_df.head()"
   ]
  },
  {
   "cell_type": "code",
   "execution_count": 26,
   "metadata": {
    "_uuid": "655682fc1b248ab5ae98e2a68b485713f3f0365a"
   },
   "outputs": [
    {
     "data": {
      "text/html": [
       "<div>\n",
       "<style scoped>\n",
       "    .dataframe tbody tr th:only-of-type {\n",
       "        vertical-align: middle;\n",
       "    }\n",
       "\n",
       "    .dataframe tbody tr th {\n",
       "        vertical-align: top;\n",
       "    }\n",
       "\n",
       "    .dataframe thead th {\n",
       "        text-align: right;\n",
       "    }\n",
       "</style>\n",
       "<table border=\"1\" class=\"dataframe\">\n",
       "  <thead>\n",
       "    <tr style=\"text-align: right;\">\n",
       "      <th></th>\n",
       "      <th>LSM</th>\n",
       "      <th>RSM</th>\n",
       "    </tr>\n",
       "  </thead>\n",
       "  <tbody>\n",
       "    <tr>\n",
       "      <td>0</td>\n",
       "      <td>137.812952</td>\n",
       "      <td>144.531950</td>\n",
       "    </tr>\n",
       "    <tr>\n",
       "      <td>1</td>\n",
       "      <td>122.118049</td>\n",
       "      <td>131.835346</td>\n",
       "    </tr>\n",
       "    <tr>\n",
       "      <td>2</td>\n",
       "      <td>134.161613</td>\n",
       "      <td>112.961513</td>\n",
       "    </tr>\n",
       "    <tr>\n",
       "      <td>3</td>\n",
       "      <td>133.474781</td>\n",
       "      <td>151.542051</td>\n",
       "    </tr>\n",
       "    <tr>\n",
       "      <td>4</td>\n",
       "      <td>117.462951</td>\n",
       "      <td>168.724493</td>\n",
       "    </tr>\n",
       "  </tbody>\n",
       "</table>\n",
       "</div>"
      ],
      "text/plain": [
       "          LSM         RSM\n",
       "0  137.812952  144.531950\n",
       "1  122.118049  131.835346\n",
       "2  134.161613  112.961513\n",
       "3  133.474781  151.542051\n",
       "4  117.462951  168.724493"
      ]
     },
     "execution_count": 26,
     "metadata": {},
     "output_type": "execute_result"
    }
   ],
   "source": [
    "#denormalize\n",
    "y_prediction_df['LSM'] = data_min['LSM'] + y_prediction_df['LSM']*(data_max['LSM'] - data_min['LSM']) \n",
    "y_prediction_df['RSM'] = data_min['RSM'] + y_prediction_df['RSM']*(data_max['RSM'] - data_min['RSM']) \n",
    "y_prediction_df.head()"
   ]
  },
  {
   "cell_type": "code",
   "execution_count": null,
   "metadata": {
    "_uuid": "c9750647d7259524d7d2f9bea0c87381e409fa15"
   },
   "outputs": [],
   "source": []
  },
  {
   "cell_type": "code",
   "execution_count": null,
   "metadata": {
    "_uuid": "ab423077cb6d4b61499aaea1288f46f674081e2b"
   },
   "outputs": [],
   "source": []
  }
 ],
 "metadata": {
  "kernelspec": {
   "display_name": "Python 3",
   "language": "python",
   "name": "python3"
  },
  "language_info": {
   "codemirror_mode": {
    "name": "ipython",
    "version": 3
   },
   "file_extension": ".py",
   "mimetype": "text/x-python",
   "name": "python",
   "nbconvert_exporter": "python",
   "pygments_lexer": "ipython3",
   "version": "3.7.4"
  }
 },
 "nbformat": 4,
 "nbformat_minor": 1
}
